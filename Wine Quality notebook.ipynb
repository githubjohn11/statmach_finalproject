{
  "cells": [
    {
      "cell_type": "markdown",
      "metadata": {
        "id": "3yBLi4xTtxNL"
      },
      "source": [
        "# Data Exploration & Preprocessing\n",
        "---"
      ]
    },
    {
      "cell_type": "markdown",
      "metadata": {
        "id": "WZsqgyMKyajA"
      },
      "source": [
        "### Dataset\n",
        "The Wine Quality dataset from the UCI Machine Learning Repository contains information about red and white wines, with various  attributes (like pH, alcohol, and sugar content) and a quality score rated between 0 and 10. The dataset has 1599 samples of red wine and 4898 samples of white wine.\n",
        "\n",
        "**Objective:** Perform EDA to understand the structure of the dataset, handle missing values, identify outliers, and preprocess the data for further analysis.\n",
        "\n",
        "---"
      ]
    },
    {
      "cell_type": "code",
      "execution_count": null,
      "metadata": {
        "colab": {
          "base_uri": "https://localhost:8080/",
          "height": 553
        },
        "id": "EaPhejKFyGF_",
        "outputId": "c2fa1bb2-4696-48a3-a381-6d455b157a34"
      },
      "outputs": [
        {
          "name": "stdout",
          "output_type": "stream",
          "text": [
            "<class 'pandas.core.frame.DataFrame'>\n",
            "Index: 6497 entries, 0 to 4897\n",
            "Data columns (total 13 columns):\n",
            " #   Column                Non-Null Count  Dtype  \n",
            "---  ------                --------------  -----  \n",
            " 0   fixed acidity         6497 non-null   float64\n",
            " 1   volatile acidity      6497 non-null   float64\n",
            " 2   citric acid           6497 non-null   float64\n",
            " 3   residual sugar        6497 non-null   float64\n",
            " 4   chlorides             6497 non-null   float64\n",
            " 5   free sulfur dioxide   6497 non-null   float64\n",
            " 6   total sulfur dioxide  6497 non-null   float64\n",
            " 7   density               6497 non-null   float64\n",
            " 8   pH                    6497 non-null   float64\n",
            " 9   sulphates             6497 non-null   float64\n",
            " 10  alcohol               6497 non-null   float64\n",
            " 11  quality               6497 non-null   int64  \n",
            " 12  wine_type             6497 non-null   object \n",
            "dtypes: float64(11), int64(1), object(1)\n",
            "memory usage: 710.6+ KB\n"
          ]
        },
        {
          "data": {
            "text/html": [
              "<div>\n",
              "<style scoped>\n",
              "    .dataframe tbody tr th:only-of-type {\n",
              "        vertical-align: middle;\n",
              "    }\n",
              "\n",
              "    .dataframe tbody tr th {\n",
              "        vertical-align: top;\n",
              "    }\n",
              "\n",
              "    .dataframe thead th {\n",
              "        text-align: right;\n",
              "    }\n",
              "</style>\n",
              "<table border=\"1\" class=\"dataframe\">\n",
              "  <thead>\n",
              "    <tr style=\"text-align: right;\">\n",
              "      <th></th>\n",
              "      <th>fixed acidity</th>\n",
              "      <th>volatile acidity</th>\n",
              "      <th>citric acid</th>\n",
              "      <th>residual sugar</th>\n",
              "      <th>chlorides</th>\n",
              "      <th>free sulfur dioxide</th>\n",
              "      <th>total sulfur dioxide</th>\n",
              "      <th>density</th>\n",
              "      <th>pH</th>\n",
              "      <th>sulphates</th>\n",
              "      <th>alcohol</th>\n",
              "      <th>quality</th>\n",
              "      <th>wine_type</th>\n",
              "    </tr>\n",
              "  </thead>\n",
              "  <tbody>\n",
              "    <tr>\n",
              "      <th>0</th>\n",
              "      <td>7.4</td>\n",
              "      <td>0.70</td>\n",
              "      <td>0.00</td>\n",
              "      <td>1.9</td>\n",
              "      <td>0.076</td>\n",
              "      <td>11.0</td>\n",
              "      <td>34.0</td>\n",
              "      <td>0.9978</td>\n",
              "      <td>3.51</td>\n",
              "      <td>0.56</td>\n",
              "      <td>9.4</td>\n",
              "      <td>5</td>\n",
              "      <td>red</td>\n",
              "    </tr>\n",
              "    <tr>\n",
              "      <th>1</th>\n",
              "      <td>7.8</td>\n",
              "      <td>0.88</td>\n",
              "      <td>0.00</td>\n",
              "      <td>2.6</td>\n",
              "      <td>0.098</td>\n",
              "      <td>25.0</td>\n",
              "      <td>67.0</td>\n",
              "      <td>0.9968</td>\n",
              "      <td>3.20</td>\n",
              "      <td>0.68</td>\n",
              "      <td>9.8</td>\n",
              "      <td>5</td>\n",
              "      <td>red</td>\n",
              "    </tr>\n",
              "    <tr>\n",
              "      <th>2</th>\n",
              "      <td>7.8</td>\n",
              "      <td>0.76</td>\n",
              "      <td>0.04</td>\n",
              "      <td>2.3</td>\n",
              "      <td>0.092</td>\n",
              "      <td>15.0</td>\n",
              "      <td>54.0</td>\n",
              "      <td>0.9970</td>\n",
              "      <td>3.26</td>\n",
              "      <td>0.65</td>\n",
              "      <td>9.8</td>\n",
              "      <td>5</td>\n",
              "      <td>red</td>\n",
              "    </tr>\n",
              "    <tr>\n",
              "      <th>3</th>\n",
              "      <td>11.2</td>\n",
              "      <td>0.28</td>\n",
              "      <td>0.56</td>\n",
              "      <td>1.9</td>\n",
              "      <td>0.075</td>\n",
              "      <td>17.0</td>\n",
              "      <td>60.0</td>\n",
              "      <td>0.9980</td>\n",
              "      <td>3.16</td>\n",
              "      <td>0.58</td>\n",
              "      <td>9.8</td>\n",
              "      <td>6</td>\n",
              "      <td>red</td>\n",
              "    </tr>\n",
              "    <tr>\n",
              "      <th>4</th>\n",
              "      <td>7.4</td>\n",
              "      <td>0.70</td>\n",
              "      <td>0.00</td>\n",
              "      <td>1.9</td>\n",
              "      <td>0.076</td>\n",
              "      <td>11.0</td>\n",
              "      <td>34.0</td>\n",
              "      <td>0.9978</td>\n",
              "      <td>3.51</td>\n",
              "      <td>0.56</td>\n",
              "      <td>9.4</td>\n",
              "      <td>5</td>\n",
              "      <td>red</td>\n",
              "    </tr>\n",
              "  </tbody>\n",
              "</table>\n",
              "</div>"
            ],
            "text/plain": [
              "   fixed acidity  volatile acidity  citric acid  residual sugar  chlorides  \\\n",
              "0            7.4              0.70         0.00             1.9      0.076   \n",
              "1            7.8              0.88         0.00             2.6      0.098   \n",
              "2            7.8              0.76         0.04             2.3      0.092   \n",
              "3           11.2              0.28         0.56             1.9      0.075   \n",
              "4            7.4              0.70         0.00             1.9      0.076   \n",
              "\n",
              "   free sulfur dioxide  total sulfur dioxide  density    pH  sulphates  \\\n",
              "0                 11.0                  34.0   0.9978  3.51       0.56   \n",
              "1                 25.0                  67.0   0.9968  3.20       0.68   \n",
              "2                 15.0                  54.0   0.9970  3.26       0.65   \n",
              "3                 17.0                  60.0   0.9980  3.16       0.58   \n",
              "4                 11.0                  34.0   0.9978  3.51       0.56   \n",
              "\n",
              "   alcohol  quality wine_type  \n",
              "0      9.4        5       red  \n",
              "1      9.8        5       red  \n",
              "2      9.8        5       red  \n",
              "3      9.8        6       red  \n",
              "4      9.4        5       red  "
            ]
          },
          "execution_count": 41,
          "metadata": {},
          "output_type": "execute_result"
        }
      ],
      "source": [
        "# Importing necessary libraries\n",
        "import pandas as pd\n",
        "import numpy as np\n",
        "import matplotlib.pyplot as plt\n",
        "from scipy.stats import zscore\n",
        "\n",
        "# Load the dataset\n",
        "red_wine = pd.read_csv(\"winequality-red.csv\", delimiter=';')\n",
        "white_wine = pd.read_csv(\"winequality-white.csv\", delimiter=';')\n",
        "\n",
        "# Combine datasets for easier analysis\n",
        "red_wine['wine_type'] = 'red'\n",
        "white_wine['wine_type'] = 'white'\n",
        "wine_data = pd.concat([red_wine, white_wine], axis=0)\n",
        "\n",
        "# Display the structure of the dataset\n",
        "wine_data.info()\n",
        "wine_data.head()\n",
        "\n"
      ]
    },
    {
      "cell_type": "markdown",
      "metadata": {
        "id": "gaJoVRh7zG4M"
      },
      "source": [
        "### Check missing values\n",
        "The dataset has 12 features and a target variable (`quality`). There are no missing values in the dataset, as indicated by the `.info()` output. The target variable `quality` has values ranging from 3 to 8, and there is an additional column `wine_type` to differentiate between red and white wines.\n"
      ]
    },
    {
      "cell_type": "code",
      "execution_count": null,
      "metadata": {
        "colab": {
          "base_uri": "https://localhost:8080/",
          "height": 492
        },
        "id": "vumH8HtnzJyB",
        "outputId": "3776854f-069e-476f-a5eb-9b33c411cbd7"
      },
      "outputs": [
        {
          "data": {
            "text/plain": [
              "fixed acidity           0\n",
              "volatile acidity        0\n",
              "citric acid             0\n",
              "residual sugar          0\n",
              "chlorides               0\n",
              "free sulfur dioxide     0\n",
              "total sulfur dioxide    0\n",
              "density                 0\n",
              "pH                      0\n",
              "sulphates               0\n",
              "alcohol                 0\n",
              "quality                 0\n",
              "wine_type               0\n",
              "dtype: int64"
            ]
          },
          "execution_count": 42,
          "metadata": {},
          "output_type": "execute_result"
        }
      ],
      "source": [
        "\n",
        "# Checking for missing values\n",
        "wine_data.isnull().sum()\n"
      ]
    },
    {
      "cell_type": "markdown",
      "metadata": {
        "id": "rG_-jVYzzM9L"
      },
      "source": [
        "\n",
        "\n",
        "#### **Summary Statistics**\n",
        "We calculated the summary statistics to understand the central tendency, dispersion, and overall distribution of the numeric features.\n",
        "\n",
        "---"
      ]
    },
    {
      "cell_type": "code",
      "execution_count": null,
      "metadata": {
        "colab": {
          "base_uri": "https://localhost:8080/",
          "height": 300
        },
        "id": "uiuzdO7ZzWJm",
        "outputId": "3ee40840-366d-496a-bb9a-285b20f13619"
      },
      "outputs": [
        {
          "data": {
            "text/html": [
              "<div>\n",
              "<style scoped>\n",
              "    .dataframe tbody tr th:only-of-type {\n",
              "        vertical-align: middle;\n",
              "    }\n",
              "\n",
              "    .dataframe tbody tr th {\n",
              "        vertical-align: top;\n",
              "    }\n",
              "\n",
              "    .dataframe thead th {\n",
              "        text-align: right;\n",
              "    }\n",
              "</style>\n",
              "<table border=\"1\" class=\"dataframe\">\n",
              "  <thead>\n",
              "    <tr style=\"text-align: right;\">\n",
              "      <th></th>\n",
              "      <th>fixed acidity</th>\n",
              "      <th>volatile acidity</th>\n",
              "      <th>citric acid</th>\n",
              "      <th>residual sugar</th>\n",
              "      <th>chlorides</th>\n",
              "      <th>free sulfur dioxide</th>\n",
              "      <th>total sulfur dioxide</th>\n",
              "      <th>density</th>\n",
              "      <th>pH</th>\n",
              "      <th>sulphates</th>\n",
              "      <th>alcohol</th>\n",
              "      <th>quality</th>\n",
              "    </tr>\n",
              "  </thead>\n",
              "  <tbody>\n",
              "    <tr>\n",
              "      <th>count</th>\n",
              "      <td>6497.000000</td>\n",
              "      <td>6497.000000</td>\n",
              "      <td>6497.000000</td>\n",
              "      <td>6497.000000</td>\n",
              "      <td>6497.000000</td>\n",
              "      <td>6497.000000</td>\n",
              "      <td>6497.000000</td>\n",
              "      <td>6497.000000</td>\n",
              "      <td>6497.000000</td>\n",
              "      <td>6497.000000</td>\n",
              "      <td>6497.000000</td>\n",
              "      <td>6497.000000</td>\n",
              "    </tr>\n",
              "    <tr>\n",
              "      <th>mean</th>\n",
              "      <td>7.215307</td>\n",
              "      <td>0.339666</td>\n",
              "      <td>0.318633</td>\n",
              "      <td>5.443235</td>\n",
              "      <td>0.056034</td>\n",
              "      <td>30.525319</td>\n",
              "      <td>115.744574</td>\n",
              "      <td>0.994697</td>\n",
              "      <td>3.218501</td>\n",
              "      <td>0.531268</td>\n",
              "      <td>10.491801</td>\n",
              "      <td>5.818378</td>\n",
              "    </tr>\n",
              "    <tr>\n",
              "      <th>std</th>\n",
              "      <td>1.296434</td>\n",
              "      <td>0.164636</td>\n",
              "      <td>0.145318</td>\n",
              "      <td>4.757804</td>\n",
              "      <td>0.035034</td>\n",
              "      <td>17.749400</td>\n",
              "      <td>56.521855</td>\n",
              "      <td>0.002999</td>\n",
              "      <td>0.160787</td>\n",
              "      <td>0.148806</td>\n",
              "      <td>1.192712</td>\n",
              "      <td>0.873255</td>\n",
              "    </tr>\n",
              "    <tr>\n",
              "      <th>min</th>\n",
              "      <td>3.800000</td>\n",
              "      <td>0.080000</td>\n",
              "      <td>0.000000</td>\n",
              "      <td>0.600000</td>\n",
              "      <td>0.009000</td>\n",
              "      <td>1.000000</td>\n",
              "      <td>6.000000</td>\n",
              "      <td>0.987110</td>\n",
              "      <td>2.720000</td>\n",
              "      <td>0.220000</td>\n",
              "      <td>8.000000</td>\n",
              "      <td>3.000000</td>\n",
              "    </tr>\n",
              "    <tr>\n",
              "      <th>25%</th>\n",
              "      <td>6.400000</td>\n",
              "      <td>0.230000</td>\n",
              "      <td>0.250000</td>\n",
              "      <td>1.800000</td>\n",
              "      <td>0.038000</td>\n",
              "      <td>17.000000</td>\n",
              "      <td>77.000000</td>\n",
              "      <td>0.992340</td>\n",
              "      <td>3.110000</td>\n",
              "      <td>0.430000</td>\n",
              "      <td>9.500000</td>\n",
              "      <td>5.000000</td>\n",
              "    </tr>\n",
              "    <tr>\n",
              "      <th>50%</th>\n",
              "      <td>7.000000</td>\n",
              "      <td>0.290000</td>\n",
              "      <td>0.310000</td>\n",
              "      <td>3.000000</td>\n",
              "      <td>0.047000</td>\n",
              "      <td>29.000000</td>\n",
              "      <td>118.000000</td>\n",
              "      <td>0.994890</td>\n",
              "      <td>3.210000</td>\n",
              "      <td>0.510000</td>\n",
              "      <td>10.300000</td>\n",
              "      <td>6.000000</td>\n",
              "    </tr>\n",
              "    <tr>\n",
              "      <th>75%</th>\n",
              "      <td>7.700000</td>\n",
              "      <td>0.400000</td>\n",
              "      <td>0.390000</td>\n",
              "      <td>8.100000</td>\n",
              "      <td>0.065000</td>\n",
              "      <td>41.000000</td>\n",
              "      <td>156.000000</td>\n",
              "      <td>0.996990</td>\n",
              "      <td>3.320000</td>\n",
              "      <td>0.600000</td>\n",
              "      <td>11.300000</td>\n",
              "      <td>6.000000</td>\n",
              "    </tr>\n",
              "    <tr>\n",
              "      <th>max</th>\n",
              "      <td>15.900000</td>\n",
              "      <td>1.580000</td>\n",
              "      <td>1.660000</td>\n",
              "      <td>65.800000</td>\n",
              "      <td>0.611000</td>\n",
              "      <td>289.000000</td>\n",
              "      <td>440.000000</td>\n",
              "      <td>1.038980</td>\n",
              "      <td>4.010000</td>\n",
              "      <td>2.000000</td>\n",
              "      <td>14.900000</td>\n",
              "      <td>9.000000</td>\n",
              "    </tr>\n",
              "  </tbody>\n",
              "</table>\n",
              "</div>"
            ],
            "text/plain": [
              "       fixed acidity  volatile acidity  citric acid  residual sugar  \\\n",
              "count    6497.000000       6497.000000  6497.000000     6497.000000   \n",
              "mean        7.215307          0.339666     0.318633        5.443235   \n",
              "std         1.296434          0.164636     0.145318        4.757804   \n",
              "min         3.800000          0.080000     0.000000        0.600000   \n",
              "25%         6.400000          0.230000     0.250000        1.800000   \n",
              "50%         7.000000          0.290000     0.310000        3.000000   \n",
              "75%         7.700000          0.400000     0.390000        8.100000   \n",
              "max        15.900000          1.580000     1.660000       65.800000   \n",
              "\n",
              "         chlorides  free sulfur dioxide  total sulfur dioxide      density  \\\n",
              "count  6497.000000          6497.000000           6497.000000  6497.000000   \n",
              "mean      0.056034            30.525319            115.744574     0.994697   \n",
              "std       0.035034            17.749400             56.521855     0.002999   \n",
              "min       0.009000             1.000000              6.000000     0.987110   \n",
              "25%       0.038000            17.000000             77.000000     0.992340   \n",
              "50%       0.047000            29.000000            118.000000     0.994890   \n",
              "75%       0.065000            41.000000            156.000000     0.996990   \n",
              "max       0.611000           289.000000            440.000000     1.038980   \n",
              "\n",
              "                pH    sulphates      alcohol      quality  \n",
              "count  6497.000000  6497.000000  6497.000000  6497.000000  \n",
              "mean      3.218501     0.531268    10.491801     5.818378  \n",
              "std       0.160787     0.148806     1.192712     0.873255  \n",
              "min       2.720000     0.220000     8.000000     3.000000  \n",
              "25%       3.110000     0.430000     9.500000     5.000000  \n",
              "50%       3.210000     0.510000    10.300000     6.000000  \n",
              "75%       3.320000     0.600000    11.300000     6.000000  \n",
              "max       4.010000     2.000000    14.900000     9.000000  "
            ]
          },
          "execution_count": 43,
          "metadata": {},
          "output_type": "execute_result"
        }
      ],
      "source": [
        "\n",
        "# Summary statistics\n",
        "wine_data.describe()\n"
      ]
    },
    {
      "cell_type": "markdown",
      "metadata": {
        "id": "RICQS2tnzYND"
      },
      "source": [
        "\n",
        "\n",
        "### Observation\n",
        "From the summary statistics, we observe:\n",
        "- `residual sugar` has a wide range, indicating the potential presence of outliers.\n",
        "- Most features have values concentrated within specific ranges.\n",
        "\n",
        "#### **Outliers Analysis**\n",
        "We used Z-scores to detect outliers in numeric columns.\n",
        "\n",
        "---\n",
        "\n"
      ]
    },
    {
      "cell_type": "code",
      "execution_count": null,
      "metadata": {
        "id": "DVElIM_qzc-T"
      },
      "outputs": [],
      "source": [
        "\n",
        "# Detecting outliers using Z-score\n",
        "z_scores = wine_data.iloc[:, :-1].apply(zscore)\n",
        "outliers = (z_scores.abs() > 3).sum()\n"
      ]
    },
    {
      "cell_type": "markdown",
      "metadata": {
        "id": "gbx3FUtpzgwb"
      },
      "source": [
        "### Cap values with threshold\n",
        "The outliers are more prevalent in `residual sugar`, `free sulfur dioxide`, and `total sulfur dioxide`. These features will be handled by capping extreme values to a threshold.\n",
        "\n",
        "---"
      ]
    },
    {
      "cell_type": "code",
      "execution_count": null,
      "metadata": {
        "id": "ed6Yl9f-zkeq"
      },
      "outputs": [],
      "source": [
        "\n",
        "# Handling outliers by capping them\n",
        "for column in ['residual sugar', 'free sulfur dioxide', 'total sulfur dioxide']:\n",
        "    q1 = wine_data[column].quantile(0.25)\n",
        "    q3 = wine_data[column].quantile(0.75)\n",
        "    iqr = q3 - q1\n",
        "    lower_bound = q1 - 1.5 * iqr\n",
        "    upper_bound = q3 + 1.5 * iqr\n",
        "    wine_data[column] = wine_data[column].clip(lower=lower_bound, upper=upper_bound)\n"
      ]
    },
    {
      "cell_type": "markdown",
      "metadata": {
        "id": "e2F7rkJHzn2C"
      },
      "source": [
        "### Scale features\n",
        "We normalized numeric features to bring them to a comparable scale. The features were scaled using Min-Max scaling.\n",
        "\n",
        "---"
      ]
    },
    {
      "cell_type": "code",
      "execution_count": null,
      "metadata": {
        "colab": {
          "base_uri": "https://localhost:8080/"
        },
        "id": "Lnd-2UTBzpjq",
        "outputId": "d09ccb13-1693-4d1c-e2d8-cb92bf8fd0ed"
      },
      "outputs": [
        {
          "name": "stderr",
          "output_type": "stream",
          "text": [
            "C:\\Users\\John\\AppData\\Local\\Temp\\ipykernel_9976\\3552124630.py:4: FutureWarning: Setting an item of incompatible dtype is deprecated and will raise in a future error of pandas. Value '[0.33333333 0.33333333 0.33333333 ... 0.5        0.66666667 0.5       ]' has dtype incompatible with int64, please explicitly cast to a compatible dtype first.\n",
            "  wine_data.iloc[:, :-1] = scaler.fit_transform(wine_data.iloc[:, :-1])\n"
          ]
        }
      ],
      "source": [
        "\n",
        "from sklearn.preprocessing import MinMaxScaler\n",
        "\n",
        "scaler = MinMaxScaler()\n",
        "wine_data.iloc[:, :-1] = scaler.fit_transform(wine_data.iloc[:, :-1])\n"
      ]
    },
    {
      "cell_type": "markdown",
      "metadata": {
        "id": "kghHenOJzsYB"
      },
      "source": [
        "### One-hot encode\n",
        "To preprocess the data further, categorical variables were encoded using one-hot encoding.\n",
        "\n",
        "---\n"
      ]
    },
    {
      "cell_type": "code",
      "execution_count": null,
      "metadata": {
        "id": "g0fJpAs7zxJy"
      },
      "outputs": [],
      "source": [
        "\n",
        "# Encoding the wine_type column\n",
        "wine_data = pd.get_dummies(wine_data, columns=['wine_type'], drop_first=True)\n"
      ]
    },
    {
      "cell_type": "markdown",
      "metadata": {
        "id": "YMrUMED_z0KC"
      },
      "source": [
        "### Findings:\n",
        "1. No missing values were found in the dataset.\n",
        "2. Outliers were identified in `residual sugar`, `free sulfur dioxide`, and `total sulfur dioxide` and handled using capping.\n",
        "3. Features were normalized to the range [0, 1].\n",
        "4. The dataset was successfully encoded to include categorical variables.\n",
        "\n",
        "This prepared dataset is now ready for further modeling and analysis."
      ]
    },
    {
      "cell_type": "markdown",
      "metadata": {
        "id": "pHx-YafREAGO"
      },
      "source": [
        "\n",
        "\n",
        "\n",
        "\n",
        "# Model Selection & Training\n",
        "\n",
        "---"
      ]
    },
    {
      "cell_type": "markdown",
      "metadata": {
        "id": "UhtEc3qfU9_4"
      },
      "source": [
        "### Model Selection:\n",
        "I decided to use the following models to predict wine quality:\n",
        "\n",
        "Random Forest Regressor: Random forests are robust against overfitting, handle non-linear relationships well, and can capture interactions between features. Additionally, they perform well with datasets that have both numerical and categorical data.\n",
        "Gradient Boosting Regressor (GBR): Gradient boosting models, like XGBoost or LightGBM, are powerful for structured data and excel in predictive accuracy. They can handle imbalanced datasets and focus on minimizing errors iteratively.\n",
        "I chose these models due to their strong predictive capabilities for regression tasks and because the dataset features (e.g., residual sugar, alcohol, pH) have complex relationships with the target variable (quality).\n",
        "\n",
        "\n",
        "Features were already normalized to the range [0, 1].\n",
        "Categorical variable (wine_type) was one-hot encoded.\n",
        "Target variable remained unchanged as it represents the quality score.\n"
      ]
    },
    {
      "cell_type": "code",
      "execution_count": null,
      "metadata": {
        "colab": {
          "base_uri": "https://localhost:8080/"
        },
        "id": "cjEzrzpGVDK8",
        "outputId": "234e465e-e829-4c0d-b292-5e3e20923ec3"
      },
      "outputs": [
        {
          "name": "stdout",
          "output_type": "stream",
          "text": [
            "Random Forest - MAE: 0.07293333333333334 MSE: 0.010260282051282052\n",
            "Gradient Boosting - MAE: 0.08862090478491787 MSE: 0.012788211946596633\n"
          ]
        }
      ],
      "source": [
        "# Importing necessary libraries\n",
        "from sklearn.model_selection import train_test_split\n",
        "from sklearn.ensemble import RandomForestRegressor\n",
        "from sklearn.ensemble import GradientBoostingRegressor\n",
        "from sklearn.metrics import mean_absolute_error, mean_squared_error\n",
        "\n",
        "# Splitting the data\n",
        "X = wine_data.drop(columns='quality')\n",
        "y = wine_data['quality']\n",
        "\n",
        "X_train, X_test, y_train, y_test = train_test_split(X, y, test_size=0.2, random_state=42)\n",
        "\n",
        "# Random Forest Model\n",
        "rf_model = RandomForestRegressor(n_estimators=100, random_state=42)\n",
        "rf_model.fit(X_train, y_train)\n",
        "\n",
        "# Gradient Boosting Model\n",
        "gbr_model = GradientBoostingRegressor(n_estimators=100, learning_rate=0.1, random_state=42)\n",
        "gbr_model.fit(X_train, y_train)\n",
        "\n",
        "# Predictions\n",
        "rf_predictions = rf_model.predict(X_test)\n",
        "gbr_predictions = gbr_model.predict(X_test)\n",
        "\n",
        "# Evaluation\n",
        "rf_mae = mean_absolute_error(y_test, rf_predictions)\n",
        "gbr_mae = mean_absolute_error(y_test, gbr_predictions)\n",
        "\n",
        "rf_mse = mean_squared_error(y_test, rf_predictions)\n",
        "gbr_mse = mean_squared_error(y_test, gbr_predictions)\n",
        "\n",
        "print(\"Random Forest - MAE:\", rf_mae, \"MSE:\", rf_mse)\n",
        "print(\"Gradient Boosting - MAE:\", gbr_mae, \"MSE:\", gbr_mse)\n"
      ]
    },
    {
      "cell_type": "markdown",
      "metadata": {
        "id": "hfMW5-i0Wlo2"
      },
      "source": [
        "### Interpretation and Insights:\n",
        "\n",
        "The Random Forest Regressor outperformed the Gradient Boosting Regressor in terms of both MAE and MSE, likely due to its ability to handle variance within the dataset.\n",
        "The Gradient Boosting Regressor, while powerful, might require additional tuning of hyperparameters to improve performance.\n",
        "\n",
        "### Hyperparameter Tuning with Grid Search\n",
        "\n",
        "To improve the performance of the models, I conducted hyperparameter tuning using Grid Search. This approach evaluates various combinations of hyperparameters to identify the optimal configuration for each model."
      ]
    },
    {
      "cell_type": "code",
      "execution_count": null,
      "metadata": {
        "colab": {
          "base_uri": "https://localhost:8080/"
        },
        "id": "zEIlFbUNExm_",
        "outputId": "786bed7c-7882-41a0-814f-5c6e5330d716"
      },
      "outputs": [
        {
          "name": "stdout",
          "output_type": "stream",
          "text": [
            "Fitting 3 folds for each of 27 candidates, totalling 81 fits\n",
            "Best Random Forest Parameters: {'max_depth': None, 'min_samples_split': 2, 'n_estimators': 300}\n",
            "Fitting 3 folds for each of 27 candidates, totalling 81 fits\n",
            "Best Gradient Boosting Parameters: {'learning_rate': 0.2, 'max_depth': 7, 'n_estimators': 300}\n"
          ]
        }
      ],
      "source": [
        "from sklearn.model_selection import GridSearchCV\n",
        "\n",
        "# Hyperparameter tuning for Random Forest\n",
        "rf_param_grid = {\n",
        "    'n_estimators': [100, 200, 300],\n",
        "    'max_depth': [None, 10, 20],\n",
        "    'min_samples_split': [2, 5, 10]\n",
        "}\n",
        "\n",
        "rf_grid_search = GridSearchCV(\n",
        "    estimator=RandomForestRegressor(random_state=42),\n",
        "    param_grid=rf_param_grid,\n",
        "    scoring='neg_mean_absolute_error',\n",
        "    cv=3,\n",
        "    verbose=1,\n",
        "    n_jobs=-1\n",
        ")\n",
        "\n",
        "rf_grid_search.fit(X_train, y_train)\n",
        "\n",
        "# Best Random Forest parameters\n",
        "best_rf_model = rf_grid_search.best_estimator_\n",
        "print(\"Best Random Forest Parameters:\", rf_grid_search.best_params_)\n",
        "\n",
        "# Hyperparameter tuning for Gradient Boosting\n",
        "gbr_param_grid = {\n",
        "    'n_estimators': [100, 200, 300],\n",
        "    'learning_rate': [0.05, 0.1, 0.2],\n",
        "    'max_depth': [3, 5, 7]\n",
        "}\n",
        "\n",
        "gbr_grid_search = GridSearchCV(\n",
        "    estimator=GradientBoostingRegressor(random_state=42),\n",
        "    param_grid=gbr_param_grid,\n",
        "    scoring='neg_mean_absolute_error',\n",
        "    cv=3,\n",
        "    verbose=1,\n",
        "    n_jobs=-1\n",
        ")\n",
        "\n",
        "gbr_grid_search.fit(X_train, y_train)\n",
        "\n",
        "# Best Gradient Boosting parameters\n",
        "best_gbr_model = gbr_grid_search.best_estimator_\n",
        "print(\"Best Gradient Boosting Parameters:\", gbr_grid_search.best_params_)\n"
      ]
    },
    {
      "cell_type": "markdown",
      "metadata": {
        "id": "JLJV4jzkE83v"
      },
      "source": [
        "### Model Re-evaluation\n",
        "\n",
        "Using the best hyperparameters obtained from Grid Search, I retrained both models and re-evaluated their performance on the test data."
      ]
    },
    {
      "cell_type": "code",
      "execution_count": null,
      "metadata": {
        "colab": {
          "base_uri": "https://localhost:8080/"
        },
        "id": "iY9gHPJpE-74",
        "outputId": "eb17c1e7-cde5-48ad-e0bb-737c8c93844c"
      },
      "outputs": [
        {
          "name": "stdout",
          "output_type": "stream",
          "text": [
            "Tuned Random Forest - MAE: 0.0726, MSE: 0.0102\n",
            "Tuned Gradient Boosting - MAE: 0.0699, MSE: 0.0111\n"
          ]
        }
      ],
      "source": [
        "# Predictions with tuned models\n",
        "rf_tuned_predictions = best_rf_model.predict(X_test)\n",
        "gbr_tuned_predictions = best_gbr_model.predict(X_test)\n",
        "\n",
        "# Evaluation of tuned models\n",
        "rf_tuned_mae = mean_absolute_error(y_test, rf_tuned_predictions)\n",
        "rf_tuned_mse = mean_squared_error(y_test, rf_tuned_predictions)\n",
        "\n",
        "gbr_tuned_mae = mean_absolute_error(y_test, gbr_tuned_predictions)\n",
        "gbr_tuned_mse = mean_squared_error(y_test, gbr_tuned_predictions)\n",
        "\n",
        "print(f\"Tuned Random Forest - MAE: {rf_tuned_mae:.4f}, MSE: {rf_tuned_mse:.4f}\")\n",
        "print(f\"Tuned Gradient Boosting - MAE: {gbr_tuned_mae:.4f}, MSE: {gbr_tuned_mse:.4f}\")\n"
      ]
    },
    {
      "cell_type": "markdown",
      "metadata": {
        "id": "hM_WyuasFMKk"
      },
      "source": [
        "### Feature Importance Analysis\n",
        "\n",
        "To understand the impact of each feature on wine quality predictions, I analyzed feature importance from the tuned Random Forest model."
      ]
    },
    {
      "cell_type": "code",
      "execution_count": null,
      "metadata": {
        "colab": {
          "base_uri": "https://localhost:8080/",
          "height": 833
        },
        "id": "EIW5irZuFOxf",
        "outputId": "cd96cdbb-ece2-4940-80ee-341e3c05b037"
      },
      "outputs": [
        {
          "name": "stdout",
          "output_type": "stream",
          "text": [
            "                 Feature  Importance\n",
            "10               alcohol    0.256008\n",
            "1       volatile acidity    0.128983\n",
            "5    free sulfur dioxide    0.086496\n",
            "9              sulphates    0.078167\n",
            "6   total sulfur dioxide    0.072532\n",
            "3         residual sugar    0.070543\n",
            "8                     pH    0.070248\n",
            "4              chlorides    0.063293\n",
            "2            citric acid    0.058318\n",
            "7                density    0.058261\n",
            "0          fixed acidity    0.056171\n",
            "11       wine_type_white    0.000982\n"
          ]
        },
        {
          "data": {
            "image/png": "[encoded data removed]",
            "text/plain": [
              "<Figure size 1000x600 with 1 Axes>"
            ]
          },
          "metadata": {},
          "output_type": "display_data"
        }
      ],
      "source": [
        "# Feature importance from Random Forest\n",
        "feature_importances = pd.DataFrame({\n",
        "    'Feature': X.columns,\n",
        "    'Importance': best_rf_model.feature_importances_\n",
        "}).sort_values(by='Importance', ascending=False)\n",
        "\n",
        "print(feature_importances)\n",
        "\n",
        "# Plotting feature importance\n",
        "plt.figure(figsize=(10, 6))\n",
        "plt.bar(feature_importances['Feature'], feature_importances['Importance'])\n",
        "plt.xticks(rotation=45, ha='right')\n",
        "plt.title('Feature Importance from Random Forest')\n",
        "plt.xlabel('Features')\n",
        "plt.ylabel('Importance')\n",
        "plt.tight_layout()\n",
        "plt.show()\n"
      ]
    },
    {
      "cell_type": "markdown",
      "metadata": {
        "id": "YFzhpa7_txNT"
      },
      "source": [
        "#### Ensemble Methods\n",
        "Combining the predictions of Random Forest and Gradient Boosting using a Stacked Regressor can leverage the strengths of both models."
      ]
    },
    {
      "cell_type": "code",
      "execution_count": null,
      "metadata": {
        "id": "vKFfxmjxtxNT",
        "outputId": "beb06239-1042-49f0-ca0f-cfc55cf5edc5"
      },
      "outputs": [
        {
          "name": "stdout",
          "output_type": "stream",
          "text": [
            "Stacked Model - MAE: 0.0664, MSE: 0.0099\n"
          ]
        }
      ],
      "source": [
        "from sklearn.ensemble import StackingRegressor\n",
        "\n",
        "# Define the base models\n",
        "estimators = [\n",
        "    ('rf', best_rf_random_model),\n",
        "    ('gbr', best_gbr_random_model)\n",
        "]\n",
        "\n",
        "# Create Stacking Regressor\n",
        "stacked_model = StackingRegressor(\n",
        "    estimators=estimators,\n",
        "    final_estimator=GradientBoostingRegressor(n_estimators=100, learning_rate=0.1, random_state=42)\n",
        ")\n",
        "\n",
        "stacked_model.fit(X_train, y_train)\n",
        "stacked_predictions = stacked_model.predict(X_test)\n",
        "\n",
        "# Evaluate Stacked Model\n",
        "stacked_mae = mean_absolute_error(y_test, stacked_predictions)\n",
        "stacked_mse = mean_squared_error(y_test, stacked_predictions)\n",
        "\n",
        "print(f\"Stacked Model - MAE: {stacked_mae:.4f}, MSE: {stacked_mse:.4f}\")\n"
      ]
    },
    {
      "cell_type": "markdown",
      "metadata": {
        "id": "3w4hsbaxtxNU"
      },
      "source": [
        "#### Observation\n",
        "\n",
        "As we can see, a nice improvement on both values when combining the models into a stacked model."
      ]
    },
    {
      "cell_type": "markdown",
      "metadata": {
        "id": "zQflBcYmtxNU"
      },
      "source": [
        "##### Key Takeaways:\n",
        "\n",
        "Hyperparameter tuning improved both models' performance, particularly for Gradient Boosting.\n",
        "\n",
        "Random Forest remains the best-performing model, with lower MAE and MSE across all evaluations.\n"
      ]
    },
    {
      "cell_type": "markdown",
      "metadata": {
        "id": "OsI7siE_FUO5"
      },
      "source": [
        "### Model Training Results and Insights\n",
        "\n",
        "\n",
        "##### Random Forest:\n",
        "\n",
        "\n",
        "MAE improved from 0.0729 to 0.0726.\n",
        "\n",
        "MSE improved from 0.0103 to 0.0102.\n",
        "\n",
        "\n",
        "\n",
        "##### Gradient Boosting:\n",
        "\n",
        "MAE improved from 0.0886 to 0.0699.\n",
        "\n",
        "MSE improved from 0.0128 to 0.0111.\n",
        "\n",
        "##### After Optimizations\n",
        "\n",
        "Stacked Model - MAE: 0.0664, MSE: 0.0099\n",
        "\n",
        "##### Feature Importance:\n",
        "\n",
        "The most important features influencing wine quality were:"
      ]
    },
    {
      "cell_type": "raw",
      "metadata": {
        "id": "2yfegVhmtxNU"
      },
      "source": [
        "                 Feature  Importance\n",
        "                 alcohol    0.256008\n",
        "        volatile acidity    0.128983\n",
        "     free sulfur dioxide    0.086496"
      ]
    },
    {
      "cell_type": "markdown",
      "source": [
        "# Challenges Faced, Solutions Implemented, and Future Directions\n",
        "\n",
        "Throughout the model selection, data handling, and training process, I encountered several key challenges and took steps to overcome them:\n",
        "\n",
        "1. Data Quality and Outliers:  \n",
        "   Challenge: The raw wine dataset contained a few variables with significant outliers (residual sugar, free sulfur dioxide, and total sulfur dioxide). These outliers could skew the model’s understanding of the underlying data distribution, potentially leading to poor generalization and less stable model performance.  \n",
        "   Solution: I implemented a systematic outlier capping strategy. Using the Interquartile Range (IQR), I identified extreme values and capped them at the lower and upper thresholds. This helped create a more uniform distribution without completely discarding information. As a result, the model became more robust to unusual values and less prone to instability during training.\n",
        "\n",
        "2. Feature Scaling and Normalization:\n",
        "   Challenge: The wide range of feature values (residual sugarspanning a large interval) introduced scaling discrepancies that could negatively impact models that assume features are on a similar scale (such as Gradient Boosting models).  \n",
        "   Solution: I applied Min-Max normalization to bring all features into the [0, 1] range. This facilitated better model training convergence, allowed the gradient-based learners to find optimal solutions more efficiently, and helped ensure that no single feature dominated the training process due to scale.\n",
        "\n",
        "3. Model Selection Complexity:\n",
        "   Challenge: Identifying the best model to predict wine quality was non-trivial. While Random Forests and Gradient Boosting Regressors are both strong candidates, their performance can vary widely depending on hyperparameter configurations, data distributions, and feature interactions. Initially, the chosen defaults did not yield optimal results, leaving room for performance improvements.  \n",
        "   Solution:I tackled this challenge through hyperparameter tuning using Grid Search. By systematically exploring combinations of parameters (e.g., n_estimators, max_depth, and learning_rate), I identified configurations that minimized error metrics. Hyperparameter tuning notably improved the performance of both the Random Forest and Gradient Boosting models. Additionally, experimenting with ensemble techniques, such as a Stacking Regressor, further enhanced predictive performance by leveraging the complementary strengths of multiple models.\n",
        "\n",
        "\n",
        "---\n",
        "\n",
        "**Remaining Issues and Future Work:**\n",
        "\n",
        "- Model Interpretability:\n",
        "  Although feature importance helps, more interpretable model forms or techniques like SHAP (SHapley Additive exPlanations) could provide even deeper insights into model decisions, making the results more actionable.\n",
        "\n",
        "- Hyperparameter Optimization Methods:\n",
        "  While Grid Search was effective, it can be computationally intensive. Alternatives like Bayesian Optimization or genetic algorithms might find better hyperparameters faster, allowing for a more efficient search of the model space.\n"
      ],
      "metadata": {
        "id": "Z1cgL0S-vNMh"
      }
    }
  ],
  "metadata": {
    "colab": {
      "provenance": []
    },
    "kernelspec": {
      "display_name": "Python 3 (ipykernel)",
      "language": "python",
      "name": "python3"
    },
    "language_info": {
      "codemirror_mode": {
        "name": "ipython",
        "version": 3
      },
      "file_extension": ".py",
      "mimetype": "text/x-python",
      "name": "python",
      "nbconvert_exporter": "python",
      "pygments_lexer": "ipython3",
      "version": "3.12.7"
    }
  },
  "nbformat": 4,
  "nbformat_minor": 0
}